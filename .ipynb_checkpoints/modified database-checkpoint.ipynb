{
 "cells": [
  {
   "cell_type": "code",
   "execution_count": 143,
   "metadata": {},
   "outputs": [
    {
     "data": {
      "text/plain": [
       "<module 'corrlab' from 'corrlab.py'>"
      ]
     },
     "execution_count": 143,
     "metadata": {},
     "output_type": "execute_result"
    }
   ],
   "source": [
    "reload(corrlab)\n"
   ]
  },
  {
   "cell_type": "code",
   "execution_count": 170,
   "metadata": {},
   "outputs": [
    {
     "data": {
      "text/plain": [
       "1L"
      ]
     },
     "execution_count": 170,
     "metadata": {},
     "output_type": "execute_result"
    }
   ],
   "source": [
    "cursor.execute(\"SELECT concat('DROP TABLE IF EXISTS ', table_name, ';') FROM information_schema.tables WHERE table_schema = 'db_corr';\")"
   ]
  },
  {
   "cell_type": "code",
   "execution_count": 149,
   "metadata": {},
   "outputs": [
    {
     "name": "stderr",
     "output_type": "stream",
     "text": [
      "/home/hui/anaconda2/lib/python2.7/site-packages/ipykernel_launcher.py:26: Warning: Can't create database 'db_corr'; database exists\n",
      "/home/hui/anaconda2/lib/python2.7/site-packages/ipykernel_launcher.py:40: Warning: Table 'tb_corr' already exists\n"
     ]
    }
   ],
   "source": [
    "filedir ='/hdd/ctp/day/'\n",
    "start_date = '20171113'\n",
    "end_date = '20171113'\n",
    "type = 1      # 1 for aggravated, 0 for rolling\n",
    "ticker1 = 'ru0'\n",
    "outputdir = u'/home/hui/文档/corr output/'\n",
    "lagLst = ['1s','5s','10s','30s','60s']\n",
    "periodLst = ['1s','5s','10s','30s','60s']\n",
    "\n",
    "# typelst = ['noble', 'nonferrous', 'black', 'farm', 'chemical', 'futures', 'loan']\n",
    "\n",
    "import pandas as pd\n",
    "import numpy as np\n",
    "import re\n",
    "import matplotlib.pylab as plt\n",
    "import seaborn as sns\n",
    "import os\n",
    "import gc\n",
    "import corrlab\n",
    "import MySQLdb\n",
    "\n",
    "\n",
    "def createTable():\n",
    "    conn = MySQLdb.connect(host = 'localhost',user='root',passwd='hhui123456')\n",
    "    cursor = conn.cursor()\n",
    "    cursor.execute(\"\"\"create database if not exists db_corr\"\"\")\n",
    "    conn.select_db('db_corr')\n",
    "    cursor.execute(\"\"\"create table if not exists tb_corr(\n",
    "    start_date DATE not null,\n",
    "    end_date DATE not null,\n",
    "    ticker1 varchar(32) not null,\n",
    "    ticker2 varchar(32) not null,\n",
    "    type SMALLINT not null DEFAULT 0, \n",
    "    period INT not null,\n",
    "    lag INT not null,\n",
    "    corr DOUBLE,\n",
    "    symbol1 varchar(32),\n",
    "    symbol2 varchar(32),\n",
    "    primary key(start_date, end_date, ticker1, ticker2, type, lag)\n",
    "    )\"\"\")\n",
    "\n",
    "createTable()\n",
    "\n",
    "\n",
    "conn = MySQLdb.connect(host='localhost', user='root', passwd='hhui123456')\n",
    "cursor = conn.cursor()\n",
    "conn.select_db('db_corr')\n",
    "\n",
    "res = pd.DataFrame()\n",
    "\n",
    "corr = corrlab.corrAna(filedir = filedir, start_date= start_date, end_date= end_date, type= type)\n",
    "dayLst = corr.generateDayLst()\n",
    "\n",
    "for day in dayLst:   # 时间跨度为1天\n",
    "    lst = []\n",
    "    lst.append(day)\n",
    "    data = corr.concatdata(lst)\n",
    "    target = corr.getsymbol(data, ticker1)\n",
    "    for lag in lagLst:\n",
    "        for period in periodLst:\n",
    "            res = pd.DataFrame()\n",
    "            temp = data.copy()\n",
    "            sampled = corr.sampledata(temp, period = period)\n",
    "            sampled.dropna(how = 'all',axis = 0,inplace=True)\n",
    "            sampled.fillna(method = 'ffill',inplace=True)\n",
    "            shifted = corr.shift_align(sampled, target= target, lag = lag, align_base=corr.get_align_base(sampled))\n",
    "            temp_corr = shifted.corr()\n",
    "            res = pd.concat([res,temp_corr[target]])\n",
    "            res.rename(columns = {0:day},inplace=True)\n",
    "            res.fillna(-2,inplace=True)\n",
    "            for symbol in res.index.values:\n",
    "                corr_value = res[day][symbol]\n",
    "                ticker2 = symbol[:2]+ticker1[-1]\n",
    "                cursor.execute(\"\"\"REPLACE INTO tb_corr(\n",
    "                            start_date,\n",
    "                            end_date,\n",
    "                            ticker1,\n",
    "                            symbol1,\n",
    "                            ticker2,\n",
    "                            symbol2,\n",
    "                            type,\n",
    "                            period,\n",
    "                            lag,\n",
    "                            corr)\n",
    "                            VALUES (\n",
    "                            '%s', '%s','%s','%s','%s','%s','%d','%d','%d','%.6f'\n",
    "                            )\n",
    "                            \"\"\" % (day, day, ticker1, target, ticker2, symbol, type,int(period[:-1]), int(lag[:-1]), corr_value))\n",
    "                conn.commit()"
   ]
  },
  {
   "cell_type": "code",
   "execution_count": 161,
   "metadata": {},
   "outputs": [
    {
     "name": "stderr",
     "output_type": "stream",
     "text": [
      "/home/hui/anaconda2/lib/python2.7/site-packages/ipykernel_launcher.py:26: Warning: Can't create database 'db_corr'; database exists\n",
      "/home/hui/anaconda2/lib/python2.7/site-packages/ipykernel_launcher.py:40: Warning: Table 'tb_corr' already exists\n"
     ]
    }
   ],
   "source": [
    "createTable()\n",
    "for lag in lagLst:\n",
    "        for period in periodLst:\n",
    "            res = pd.DataFrame()\n",
    "            temp = data.copy()\n",
    "            sampled = corr.sampledata(temp, period = period)\n",
    "            sampled.dropna(how = 'all',axis = 0,inplace=True)\n",
    "            sampled.fillna(method = 'ffill',inplace=True)\n",
    "            shifted = corr.shift_align(sampled, target= target, lag = lag, align_base=corr.get_align_base(sampled))\n",
    "            temp_corr = shifted.corr()\n",
    "            res = pd.concat([res,temp_corr[target]])\n",
    "            res.rename(columns = {0:day},inplace=True)\n",
    "            res.fillna(-2,inplace=True)\n",
    "            for symbol in res.index.values:\n",
    "                corr_value = res[day][symbol]\n",
    "                ticker2 = symbol[:2]+ticker1[-1]\n",
    "                cursor.execute(\"\"\"REPLACE INTO tb_corr(\n",
    "                            start_date,\n",
    "                            end_date,\n",
    "                            ticker1,\n",
    "                            symbol1,\n",
    "                            ticker2,\n",
    "                            symbol2,\n",
    "                            type,\n",
    "                            period,\n",
    "                            lag,\n",
    "                            corr)\n",
    "                            VALUES (\n",
    "                            '%s', '%s','%s','%s','%s','%s','%d','%d','%d','%.6f'\n",
    "                            )\n",
    "                            \"\"\" % (day, day, ticker1, target, ticker2, symbol, type,int(period[:-1]), int(lag[:-1]), corr_value))\n",
    "                conn.commit()"
   ]
  },
  {
   "cell_type": "code",
   "execution_count": 166,
   "metadata": {
    "scrolled": true
   },
   "outputs": [
    {
     "data": {
      "text/plain": [
       "-0.066159073594398585"
      ]
     },
     "execution_count": 166,
     "metadata": {},
     "output_type": "execute_result"
    }
   ],
   "source": [
    "res[day][symbol]"
   ]
  },
  {
   "cell_type": "code",
   "execution_count": 175,
   "metadata": {},
   "outputs": [],
   "source": [
    "cursor.execute('select * from tb_corr where ticker2 = \"SF0\"')\n",
    "rec = cursor.fetchall()"
   ]
  },
  {
   "cell_type": "code",
   "execution_count": 176,
   "metadata": {},
   "outputs": [
    {
     "name": "stdout",
     "output_type": "stream",
     "text": [
      "(datetime.date(2017, 11, 13), datetime.date(2017, 11, 13), 'ru0', 'SF0', 1, 60L, 1L, -2.0, 'ru0', 'SF0')\n",
      "(datetime.date(2017, 11, 13), datetime.date(2017, 11, 13), 'ru0', 'SF0', 1, 60L, 5L, -2.0, 'ru0', 'SF0')\n",
      "(datetime.date(2017, 11, 13), datetime.date(2017, 11, 13), 'ru0', 'SF0', 1, 60L, 10L, -2.0, 'ru0', 'SF0')\n",
      "(datetime.date(2017, 11, 13), datetime.date(2017, 11, 13), 'ru0', 'SF0', 1, 60L, 30L, -2.0, 'ru0', 'SF0')\n",
      "(datetime.date(2017, 11, 13), datetime.date(2017, 11, 13), 'ru0', 'SF0', 1, 60L, 60L, -0.066159, 'ru0', 'SF0')\n"
     ]
    }
   ],
   "source": [
    "for i in rec:\n",
    "    print i"
   ]
  },
  {
   "cell_type": "code",
   "execution_count": 171,
   "metadata": {},
   "outputs": [
    {
     "data": {
      "text/plain": [
       "'SF0'"
      ]
     },
     "execution_count": 171,
     "metadata": {},
     "output_type": "execute_result"
    }
   ],
   "source": [
    "symbol"
   ]
  },
  {
   "cell_type": "code",
   "execution_count": null,
   "metadata": {
    "collapsed": true
   },
   "outputs": [],
   "source": []
  }
 ],
 "metadata": {
  "kernelspec": {
   "display_name": "Python 2",
   "language": "python",
   "name": "python2"
  },
  "language_info": {
   "codemirror_mode": {
    "name": "ipython",
    "version": 2
   },
   "file_extension": ".py",
   "mimetype": "text/x-python",
   "name": "python",
   "nbconvert_exporter": "python",
   "pygments_lexer": "ipython2",
   "version": "2.7.14"
  }
 },
 "nbformat": 4,
 "nbformat_minor": 2
}
