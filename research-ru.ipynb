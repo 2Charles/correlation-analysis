{
 "cells": [
  {
   "cell_type": "code",
   "execution_count": 1,
   "metadata": {
    "collapsed": true
   },
   "outputs": [],
   "source": [
    "import research\n",
    "import corrlab\n",
    "import matplotlib.pylab as plt\n",
    "import pandas as pd\n",
    "import numpy as np"
   ]
  },
  {
   "cell_type": "code",
   "execution_count": 2,
   "metadata": {
    "collapsed": true
   },
   "outputs": [],
   "source": [
    "train_start, train_end = '20171114', '20171114'\n",
    "test_start, test_end = '20171115', '20171115'\n",
    "period, lag, target = '1s', '1s', 'ru0'\n",
    "type = 0"
   ]
  },
  {
   "cell_type": "code",
   "execution_count": 3,
   "metadata": {
    "collapsed": true
   },
   "outputs": [],
   "source": [
    "rs = research.simu(train_start, train_end,test_start, test_end, period, lag, target, type = type)"
   ]
  },
  {
   "cell_type": "code",
   "execution_count": 4,
   "metadata": {},
   "outputs": [
    {
     "name": "stderr",
     "output_type": "stream",
     "text": [
      "/home/hui/anaconda2/lib/python2.7/site-packages/pandas/core/indexing.py:337: SettingWithCopyWarning: \n",
      "A value is trying to be set on a copy of a slice from a DataFrame.\n",
      "Try using .loc[row_indexer,col_indexer] = value instead\n",
      "\n",
      "See the caveats in the documentation: http://pandas.pydata.org/pandas-docs/stable/indexing.html#indexing-view-versus-copy\n",
      "  self.obj[key] = _infer_fill_value(value)\n",
      "/home/hui/anaconda2/lib/python2.7/site-packages/pandas/core/indexing.py:517: SettingWithCopyWarning: \n",
      "A value is trying to be set on a copy of a slice from a DataFrame.\n",
      "Try using .loc[row_indexer,col_indexer] = value instead\n",
      "\n",
      "See the caveats in the documentation: http://pandas.pydata.org/pandas-docs/stable/indexing.html#indexing-view-versus-copy\n",
      "  self.obj[item] = s\n"
     ]
    }
   ],
   "source": [
    "train, test = rs.get_train_test()\n",
    "train_vlou, test_volu = rs.get_train_test_volu()"
   ]
  },
  {
   "cell_type": "code",
   "execution_count": 7,
   "metadata": {},
   "outputs": [],
   "source": [
    "sampled_train, sampled_test = rs.sample(train, test)"
   ]
  },
  {
   "cell_type": "code",
   "execution_count": 10,
   "metadata": {
    "collapsed": true
   },
   "outputs": [
    {
     "data": {
      "text/plain": [
       "zn0    0.088677\n",
       "ag0   -0.003033\n",
       "al0    0.443359\n",
       "y10    0.012706\n",
       "au0   -0.001575\n",
       "FG0    0.006736\n",
       "cs0   -0.001786\n",
       "c10   -0.382116\n",
       "cu0    0.067810\n",
       "ni0    0.074904\n",
       "pp0    0.040967\n",
       "pb0    0.038515\n",
       "rb0    0.067561\n",
       "TF0   -0.019247\n",
       "RM0    0.024502\n",
       "TA0    0.026704\n",
       "ru0    1.000000\n",
       "i10    0.054841\n",
       "CF0    0.003579\n",
       "ZC0    0.037396\n",
       "a10    0.343078\n",
       "IH0   -0.000027\n",
       "jd0    0.002445\n",
       "hc0    0.071725\n",
       "IC0   -0.012759\n",
       "T10   -0.009428\n",
       "IF0   -0.005582\n",
       "p10    0.011054\n",
       "MA0    0.074931\n",
       "OI0    0.307521\n",
       "bu0    0.019690\n",
       "jm0    0.047569\n",
       "j10    0.053614\n",
       "v10    0.025242\n",
       "sn0    0.067302\n",
       "SM0    0.031764\n",
       "l10    0.027553\n",
       "m10    0.014982\n",
       "SF0   -0.254075\n",
       "Name: ru0, dtype: float64"
      ]
     },
     "execution_count": 10,
     "metadata": {},
     "output_type": "execute_result"
    }
   ],
   "source": [
    "sampled_train.corr()[target]"
   ]
  },
  {
   "cell_type": "code",
   "execution_count": null,
   "metadata": {
    "collapsed": true
   },
   "outputs": [],
   "source": []
  }
 ],
 "metadata": {
  "kernelspec": {
   "display_name": "Python 2",
   "language": "python",
   "name": "python2"
  },
  "language_info": {
   "codemirror_mode": {
    "name": "ipython",
    "version": 2
   },
   "file_extension": ".py",
   "mimetype": "text/x-python",
   "name": "python",
   "nbconvert_exporter": "python",
   "pygments_lexer": "ipython2",
   "version": "2.7.14"
  }
 },
 "nbformat": 4,
 "nbformat_minor": 2
}
